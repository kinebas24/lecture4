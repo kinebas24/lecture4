{
 "cells": [
  {
   "cell_type": "markdown",
   "metadata": {},
   "source": [
    "# Високорівневий огляд Python\n",
    "\n",
    "[Python](https://en.wikipedia.org/wiki/Python_%28programming_language%29) – це інтерпретована мова програмування високого рівня, створена голландським програмістом [Гвідо ван Россумом](https://en.wikipedia.org/wiki/Guido_van_Rossum) і випущений у 1991 році.\n",
    "\n",
    "Python набув великої популярності приблизно в 2006 році, і його популярність була зумовлена його красою та простотою у використанні для веб-розробки (його основний фреймворк для веб-розробки, [Django](https://www.djangoproject.com/), був випущений в 2006 році) . Після цього Python став одним з найпопулярніших скриптових мов. Скриптова мова програмування - це та, код в якій не треба компілювати.\n",
    "\n",
    "_Інтерпретація_ — це читання або перевірка коду рядок за рядком, і якщо буде знайдено будь-яку помилку, ви не зможете йти далі, перш ніж виправити її. _Компіляція_ читає та перевіряє весь код одразу, перед тим, як його можна буде запустити, та повідомляє про всі виявлені в коді помилки. Скомпільований код працює швидше, але писати його зазвичай довше.\n",
    "\n",
    "Python є мультипарадигмальним: ви можете писати код за допомогою об’єктно-орієнтованого, функціонального та/або імперативного програмування. Python інтерпретується та використовує динамічну систему типів, хоча вважається _строго типізованим_.\n",
    "\n",
    "Він має велику вбудовану стандартну бібліотеку з функціями для різних потреб, від керування часом до http-серверів, паралелізму та асинхронного програмування.\n",
    "\n",
    "Python є мовою програмування відкритим вихідним кодом (*open source* code) і ним керує некомерційна організація: [Python Software Foundation](https://en.wikipedia.org/wiki/Python_Software_Foundation).\n",
    "\n",
    "\n",
    "## Python 3 та Python 2\n",
    "\n",
    "Існують дві версії основні версії Python: _Python 2_ and _Python 3_. Просто запамʼятовуємо правило:\n",
    "\n",
    "- 👍 Python 3: Так!\n",
    "- 🙅 Python 2: Ні!\n",
    "\n",
    "Python 2 [перестав підтримуватись у 2020](https://pythonclock.org/). Але ви все ще можете знайти код під цю версію Python. Визначити такий код можна наприклад по наявності виразів прінту без круглих скобок:\n",
    "```\n",
    "# python2\n",
    "print \"Привіт!\"\n",
    "``` \n",
    "\n",
    "замість\n",
    "\n",
    "```\n",
    "# python3\n",
    "print(\"Привіт!\")\n",
    "```\n",
    "\n",
    "Тож, для сучасної розробки використовується тільки **Python 3** і ми будемо програмувати саме на ньому."
   ]
  },
  {
   "cell_type": "markdown",
   "metadata": {},
   "source": [
    "# Синтаксис Python"
   ]
  },
  {
   "cell_type": "markdown",
   "metadata": {
    "ExecuteTime": {
     "end_time": "2022-10-13T12:57:18.749065Z",
     "start_time": "2022-10-13T12:57:18.693813Z"
    }
   },
   "source": [
    "Якщо ви думаєте, що не вмієте програмувати на Python, ви помиляєтесь і зараз я вам це доведу :)"
   ]
  },
  {
   "cell_type": "markdown",
   "metadata": {},
   "source": [
    "Час написати наш перший рядок коду:"
   ]
  },
  {
   "cell_type": "code",
   "execution_count": null,
   "metadata": {
    "ExecuteTime": {
     "end_time": "2022-10-13T12:56:38.606774Z",
     "start_time": "2022-10-13T12:56:38.596841Z"
    }
   },
   "outputs": [],
   "source": [
    "print('Hello world!')"
   ]
  },
  {
   "cell_type": "markdown",
   "metadata": {},
   "source": [
    "І другий:"
   ]
  },
  {
   "cell_type": "code",
   "execution_count": null,
   "metadata": {
    "ExecuteTime": {
     "end_time": "2022-10-13T12:56:48.105035Z",
     "start_time": "2022-10-13T12:56:48.020915Z"
    }
   },
   "outputs": [],
   "source": [
    "1 + 2"
   ]
  },
  {
   "cell_type": "markdown",
   "metadata": {
    "ExecuteTime": {
     "end_time": "2022-10-13T12:58:02.713446Z",
     "start_time": "2022-10-13T12:58:02.703921Z"
    }
   },
   "source": [
    "і ще один:"
   ]
  },
  {
   "cell_type": "code",
   "execution_count": null,
   "metadata": {
    "ExecuteTime": {
     "end_time": "2022-10-13T12:58:39.069286Z",
     "start_time": "2022-10-13T12:58:39.062726Z"
    }
   },
   "outputs": [],
   "source": [
    "(10 + 14) / 3 + 5 * 2 "
   ]
  },
  {
   "cell_type": "markdown",
   "metadata": {},
   "source": [
    "Бінго! Ви вже можете користуватись Python як калькулятором!"
   ]
  },
  {
   "cell_type": "markdown",
   "metadata": {
    "ExecuteTime": {
     "end_time": "2022-10-13T13:03:03.888064Z",
     "start_time": "2022-10-13T13:03:03.873509Z"
    }
   },
   "source": [
    "А може щось складніше межемо написати: наприклад, якщо два числа в сумі дають менше 1000, то виведемо \"Мало\", а якщо більше 1000 - \"Багато\"."
   ]
  },
  {
   "cell_type": "code",
   "execution_count": null,
   "metadata": {
    "ExecuteTime": {
     "end_time": "2022-10-13T13:05:58.014113Z",
     "start_time": "2022-10-13T13:05:58.009632Z"
    }
   },
   "outputs": [],
   "source": [
    "# Спробуйте змінити значення змінних а і b на щось інше\n",
    "# Але не прибираємо лапкИ.\n",
    "\n",
    "a = 200\n",
    "b = 850\n",
    "if a + b < 1000:\n",
    "    print('Мало')\n",
    "else: \n",
    "    print('Багато')"
   ]
  },
  {
   "cell_type": "markdown",
   "metadata": {},
   "source": [
    "## Відступи мають значення\n",
    "\n",
    "В Python аби виділити блок коду, показати, що він має бути вкладеним, ми вокристовуємо _\"відступи\"_. Розглянемо кілька прикладів."
   ]
  },
  {
   "cell_type": "code",
   "execution_count": null,
   "metadata": {},
   "outputs": [],
   "source": [
    "def add_numbers(x, y):\n",
    "    return x + y"
   ]
  },
  {
   "cell_type": "code",
   "execution_count": null,
   "metadata": {
    "ExecuteTime": {
     "end_time": "2022-10-13T13:05:11.063586Z",
     "start_time": "2022-10-13T13:05:11.057358Z"
    }
   },
   "outputs": [],
   "source": [
    "# Спробуйте змінити \"Python\" на щось інше\n",
    "# Але не прибираємо лапкИ.\n",
    "\n",
    "language = \"Python\"\n",
    "\n",
    "if language == \"Python\":\n",
    "    print(\"Попереду багато веселощів!\")\n",
    "else:\n",
    "    print(\"Ви впевнені?\")"
   ]
  },
  {
   "cell_type": "markdown",
   "metadata": {},
   "source": [
    "## Коментарі\n",
    "\n",
    "Ви вже бачили коментарі в попередньому блоці коду - вони починаються з хештегу:"
   ]
  },
  {
   "cell_type": "code",
   "execution_count": null,
   "metadata": {
    "ExecuteTime": {
     "end_time": "2022-10-13T12:55:02.302878Z",
     "start_time": "2022-10-13T12:55:02.293097Z"
    }
   },
   "outputs": [],
   "source": [
    "# це коментар"
   ]
  },
  {
   "cell_type": "code",
   "execution_count": null,
   "metadata": {
    "ExecuteTime": {
     "end_time": "2022-10-13T12:55:01.200825Z",
     "start_time": "2022-10-13T12:55:01.163042Z"
    }
   },
   "outputs": [],
   "source": [
    "# це не дасть ніякого виводу"
   ]
  },
  {
   "cell_type": "code",
   "execution_count": null,
   "metadata": {},
   "outputs": [],
   "source": [
    "# коментарі можуть розташовуватись зверху блоку коду\n",
    "print(\"Hello World!\")  # після блоку коду\n",
    "# під блоком коду"
   ]
  },
  {
   "cell_type": "markdown",
   "metadata": {},
   "source": [
    "### Змінні\n",
    "\n",
    "Ми визначили змінну `language` в одному з наших попередніх прикладів. У Python ви можете створити змінну будь-коли, у будь-якому блоці коду, просто призначивши допистиме ім’я будь-якому значенню:"
   ]
  },
  {
   "cell_type": "code",
   "execution_count": null,
   "metadata": {
    "ExecuteTime": {
     "end_time": "2022-10-15T21:51:13.858692Z",
     "start_time": "2022-10-15T21:51:13.852337Z"
    }
   },
   "outputs": [],
   "source": [
    "name = \"Mary\"\n",
    "print(name)"
   ]
  },
  {
   "cell_type": "code",
   "execution_count": null,
   "metadata": {
    "ExecuteTime": {
     "end_time": "2022-10-15T21:51:14.105056Z",
     "start_time": "2022-10-15T21:51:14.100862Z"
    }
   },
   "outputs": [],
   "source": [
    "age = 30\n",
    "print(age)"
   ]
  },
  {
   "cell_type": "markdown",
   "metadata": {},
   "source": [
    "Після визначення змінної, вона буде зберігати те значення, яке ми їй присвоїли:"
   ]
  },
  {
   "cell_type": "code",
   "execution_count": null,
   "metadata": {},
   "outputs": [],
   "source": [
    "print(name, \"is\", age, \"years old\")"
   ]
  },
  {
   "cell_type": "markdown",
   "metadata": {},
   "source": [
    "Поки ми не змінимо це значення:"
   ]
  },
  {
   "cell_type": "code",
   "execution_count": null,
   "metadata": {
    "ExecuteTime": {
     "end_time": "2022-10-15T21:52:56.218201Z",
     "start_time": "2022-10-15T21:52:56.212636Z"
    }
   },
   "outputs": [],
   "source": [
    "age += 1 # те саме, що age = age + 1\n",
    "print(\"Happy birthday!\", name, \"is\", age, \"years old\")"
   ]
  },
  {
   "cell_type": "markdown",
   "metadata": {},
   "source": [
    "Назва змінної має відповідати наступним правилам\n",
    "\n",
    "```\n",
    "Function names should be lowercase, with words separated by underscores as necessary to improve readability.\n",
    "\n",
    "Variable names follow the same convention as function names.\n",
    "```\n",
    "\n",
    "Джерело: https://peps.python.org/pep-0008/#function-and-variable-names\n",
    "\n",
    "\n",
    "\n",
    "В робочих і своїх проектах завжди найкраще, аби з назви ми розуміли, який тип даних зберігає ця змінна. Тобто бажано не називати змінні, які ви використовуєте у всьому своєму проекті як `x` або `foo`, `bar`. Але це часто роблять в прикладах, бо вони є ініверсальними і не несуть жодної бізнес логіки."
   ]
  },
  {
   "cell_type": "markdown",
   "metadata": {
    "ExecuteTime": {
     "end_time": "2022-10-18T13:30:44.897546Z",
     "start_time": "2022-10-18T13:30:44.891057Z"
    }
   },
   "source": [
    "А отак можна перевірити, чи ця назва не є зарезервованим словом та чи є вона валідною назвою:"
   ]
  },
  {
   "cell_type": "code",
   "execution_count": null,
   "metadata": {
    "ExecuteTime": {
     "end_time": "2022-10-15T22:04:05.195434Z",
     "start_time": "2022-10-15T22:04:05.188209Z"
    }
   },
   "outputs": [],
   "source": [
    "from keyword import iskeyword\n",
    "\n",
    "print('hello'.isidentifier(), iskeyword('hello'))\n",
    "\n",
    "print('def'.isidentifier(), iskeyword('def'))"
   ]
  },
  {
   "cell_type": "markdown",
   "metadata": {},
   "source": [
    "### Типи даних\n",
    "\n",
    "Python підтримує всі найпоширеніші типи даних. Розглянемо їх далі:\n",
    "\n",
    "#### Цілі числа - Integers, тип  `int`:"
   ]
  },
  {
   "cell_type": "code",
   "execution_count": null,
   "metadata": {},
   "outputs": [],
   "source": [
    "age = 30"
   ]
  },
  {
   "cell_type": "code",
   "execution_count": null,
   "metadata": {},
   "outputs": [],
   "source": [
    "age"
   ]
  },
  {
   "cell_type": "code",
   "execution_count": null,
   "metadata": {},
   "outputs": [],
   "source": [
    "type(age)"
   ]
  },
  {
   "cell_type": "markdown",
   "metadata": {},
   "source": [
    "#### Числа з плаваючою комою `float`:\n"
   ]
  },
  {
   "cell_type": "code",
   "execution_count": null,
   "metadata": {},
   "outputs": [],
   "source": [
    "# a float\n",
    "price = 2.50"
   ]
  },
  {
   "cell_type": "code",
   "execution_count": null,
   "metadata": {},
   "outputs": [],
   "source": [
    "price"
   ]
  },
  {
   "cell_type": "code",
   "execution_count": null,
   "metadata": {},
   "outputs": [],
   "source": [
    "type(price)"
   ]
  },
  {
   "cell_type": "markdown",
   "metadata": {},
   "source": [
    "З такими числами можемо спостерігати наступний ефект:"
   ]
  },
  {
   "cell_type": "code",
   "execution_count": null,
   "metadata": {
    "ExecuteTime": {
     "end_time": "2022-10-15T15:25:00.564201Z",
     "start_time": "2022-10-15T15:25:00.459489Z"
    }
   },
   "outputs": [],
   "source": [
    "0.1 * 3"
   ]
  },
  {
   "cell_type": "markdown",
   "metadata": {},
   "source": [
    "#### Рядки, тип `str`\n",
    "\n",
    "Рядки використовуються для зберігання тексту. Технічно це _\"незмінні послідовності кодових точок Unicode\"_. Python 3 по замовчанню всі рядки кодує в Unicode.  \n",
    "_Unicode_ - УНІфіковане КОДування — міжнародний стандарт кодування для використання з різними мовами світу та шрифтами, за яким кожній літері, цифрі чи символу присвоюється унікальне числове значення, яке застосовується у різних платформах і програмах. Тобто формат універсальний і ми можемо писати в рядках все, що хочемо."
   ]
  },
  {
   "cell_type": "code",
   "execution_count": null,
   "metadata": {
    "ExecuteTime": {
     "end_time": "2022-10-15T20:48:58.562649Z",
     "start_time": "2022-10-15T20:48:58.523072Z"
    }
   },
   "outputs": [],
   "source": [
    "# Можемо поміщати рядки в подвійні лапки\n",
    "print(\"Hello unicode 👋\")"
   ]
  },
  {
   "cell_type": "markdown",
   "metadata": {
    "ExecuteTime": {
     "end_time": "2022-10-15T21:13:36.784274Z",
     "start_time": "2022-10-15T21:13:36.776483Z"
    }
   },
   "source": [
    "Щодо \"незмінності\": str тип в Python є immutable (тобто незмінним) і якщо ми змінюємо текст, то він вже знаходиться в іншому місці памʼяті:"
   ]
  },
  {
   "cell_type": "code",
   "execution_count": null,
   "metadata": {
    "ExecuteTime": {
     "end_time": "2022-10-15T21:14:09.898274Z",
     "start_time": "2022-10-15T21:14:09.895659Z"
    }
   },
   "outputs": [],
   "source": [
    "x = \"Hello\""
   ]
  },
  {
   "cell_type": "code",
   "execution_count": null,
   "metadata": {
    "ExecuteTime": {
     "end_time": "2022-10-15T21:14:18.151715Z",
     "start_time": "2022-10-15T21:14:18.142364Z"
    }
   },
   "outputs": [],
   "source": [
    "hex(id(x))"
   ]
  },
  {
   "cell_type": "code",
   "execution_count": null,
   "metadata": {
    "ExecuteTime": {
     "end_time": "2022-10-15T21:56:07.430917Z",
     "start_time": "2022-10-15T21:56:07.427888Z"
    }
   },
   "outputs": [],
   "source": [
    "x += \"a\""
   ]
  },
  {
   "cell_type": "code",
   "execution_count": null,
   "metadata": {
    "ExecuteTime": {
     "end_time": "2022-10-15T21:14:35.655233Z",
     "start_time": "2022-10-15T21:14:35.648664Z"
    }
   },
   "outputs": [],
   "source": [
    "hex(id(x))"
   ]
  },
  {
   "cell_type": "markdown",
   "metadata": {
    "ExecuteTime": {
     "end_time": "2022-10-15T20:59:26.756088Z",
     "start_time": "2022-10-15T20:59:26.722200Z"
    }
   },
   "source": [
    "Якщо б нам захотілось подивитись, яким числом закодований емоджі:"
   ]
  },
  {
   "cell_type": "code",
   "execution_count": null,
   "metadata": {
    "ExecuteTime": {
     "end_time": "2022-10-15T20:57:34.096733Z",
     "start_time": "2022-10-15T20:57:34.090713Z"
    }
   },
   "outputs": [],
   "source": [
    "ord('👋')"
   ]
  },
  {
   "cell_type": "markdown",
   "metadata": {
    "ExecuteTime": {
     "end_time": "2022-10-15T20:59:40.355573Z",
     "start_time": "2022-10-15T20:59:40.340495Z"
    }
   },
   "source": [
    "а ось, обернена операція:"
   ]
  },
  {
   "cell_type": "code",
   "execution_count": null,
   "metadata": {
    "ExecuteTime": {
     "end_time": "2022-10-15T20:59:51.912294Z",
     "start_time": "2022-10-15T20:59:51.902898Z"
    }
   },
   "outputs": [],
   "source": [
    "chr(128075)"
   ]
  },
  {
   "cell_type": "code",
   "execution_count": null,
   "metadata": {
    "ExecuteTime": {
     "end_time": "2022-10-15T21:00:09.283358Z",
     "start_time": "2022-10-15T21:00:09.278227Z"
    }
   },
   "outputs": [],
   "source": [
    "# Рядок може бути і в одинарних лапках\n",
    "print('Omelette Du Fromage 🧀')"
   ]
  },
  {
   "cell_type": "markdown",
   "metadata": {},
   "source": [
    "Ви можете використовувати подвійні або одинарні лапки, це те саме. Також є «багаторядкові» рядки, які створюються за допомогою пари з 3 лапок (простих або подвійних):"
   ]
  },
  {
   "cell_type": "code",
   "execution_count": null,
   "metadata": {
    "ExecuteTime": {
     "end_time": "2022-10-15T21:01:49.563434Z",
     "start_time": "2022-10-15T21:01:49.506733Z"
    }
   },
   "outputs": [],
   "source": [
    "joke = \"\"\"\n",
    "– Боїшся стрибати з парашутом?\n",
    "– Так.\n",
    "– Стрибай без нього.\n",
    "\"\"\"\n",
    "\n",
    "print(joke)"
   ]
  },
  {
   "cell_type": "markdown",
   "metadata": {},
   "source": [
    "Операції над рядками. \n",
    "Їх є багато, всі можна переглянути в офіційній документації Python - [Text Sequence Type](https://docs.python.org/3/library/stdtypes.html#text-sequence-type-str). Розглянемо найбільш часто вживані."
   ]
  },
  {
   "cell_type": "code",
   "execution_count": null,
   "metadata": {
    "ExecuteTime": {
     "end_time": "2022-10-15T21:46:40.274262Z",
     "start_time": "2022-10-15T21:46:40.259033Z"
    }
   },
   "outputs": [],
   "source": [
    "s = 'We are learning Python!'"
   ]
  },
  {
   "cell_type": "markdown",
   "metadata": {},
   "source": [
    "Всі літери можемо зробити маленькими:"
   ]
  },
  {
   "cell_type": "code",
   "execution_count": null,
   "metadata": {
    "ExecuteTime": {
     "end_time": "2022-10-15T21:46:45.185284Z",
     "start_time": "2022-10-15T21:46:45.175518Z"
    }
   },
   "outputs": [],
   "source": [
    "s.lower()"
   ]
  },
  {
   "cell_type": "markdown",
   "metadata": {
    "ExecuteTime": {
     "end_time": "2022-10-15T21:56:36.326215Z",
     "start_time": "2022-10-15T21:56:36.317895Z"
    }
   },
   "source": [
    "Або навпаки, всі великими:"
   ]
  },
  {
   "cell_type": "code",
   "execution_count": null,
   "metadata": {
    "ExecuteTime": {
     "end_time": "2022-10-15T21:47:01.304180Z",
     "start_time": "2022-10-15T21:47:01.298654Z"
    }
   },
   "outputs": [],
   "source": [
    "s.upper()"
   ]
  },
  {
   "cell_type": "markdown",
   "metadata": {},
   "source": [
    "Можемо знайти перше зустрічання літери:"
   ]
  },
  {
   "cell_type": "code",
   "execution_count": null,
   "metadata": {
    "ExecuteTime": {
     "end_time": "2022-10-15T21:47:07.494852Z",
     "start_time": "2022-10-15T21:47:07.485929Z"
    }
   },
   "outputs": [],
   "source": [
    "s.find('e')"
   ]
  },
  {
   "cell_type": "code",
   "execution_count": null,
   "metadata": {},
   "outputs": [],
   "source": [
    "Але маємо бути пильними і передати її в правильному регістрі, великою, чи малою:"
   ]
  },
  {
   "cell_type": "code",
   "execution_count": null,
   "metadata": {
    "ExecuteTime": {
     "end_time": "2022-10-15T21:57:24.007748Z",
     "start_time": "2022-10-15T21:57:24.003511Z"
    }
   },
   "outputs": [],
   "source": [
    "s.find('E')"
   ]
  },
  {
   "cell_type": "markdown",
   "metadata": {
    "ExecuteTime": {
     "end_time": "2022-10-15T21:57:48.748711Z",
     "start_time": "2022-10-15T21:57:48.736411Z"
    }
   },
   "source": [
    "-1 - означає, що ми не знайшли таку літеру в тому рядку."
   ]
  },
  {
   "cell_type": "markdown",
   "metadata": {},
   "source": [
    "Можемо порахувати кількість літер:"
   ]
  },
  {
   "cell_type": "code",
   "execution_count": null,
   "metadata": {
    "ExecuteTime": {
     "end_time": "2022-10-15T21:47:30.838012Z",
     "start_time": "2022-10-15T21:47:30.833688Z"
    }
   },
   "outputs": [],
   "source": [
    "s.count('e')"
   ]
  },
  {
   "cell_type": "markdown",
   "metadata": {},
   "source": [
    "або слів"
   ]
  },
  {
   "cell_type": "code",
   "execution_count": null,
   "metadata": {
    "ExecuteTime": {
     "end_time": "2022-10-15T21:58:27.845539Z",
     "start_time": "2022-10-15T21:58:27.840837Z"
    }
   },
   "outputs": [],
   "source": [
    "'bla bla bla'.count('bla')"
   ]
  },
  {
   "cell_type": "markdown",
   "metadata": {},
   "source": [
    "А ще можемо розділити рядок на слова:"
   ]
  },
  {
   "cell_type": "code",
   "execution_count": null,
   "metadata": {
    "ExecuteTime": {
     "end_time": "2022-10-15T21:47:40.123444Z",
     "start_time": "2022-10-15T21:47:40.118941Z"
    }
   },
   "outputs": [],
   "source": [
    "s.split()"
   ]
  },
  {
   "cell_type": "markdown",
   "metadata": {
    "ExecuteTime": {
     "end_time": "2022-10-15T21:59:12.846863Z",
     "start_time": "2022-10-15T21:59:12.840402Z"
    }
   },
   "source": [
    "Розділювачем може бути не лише пробіл (значення за замовченням), а і будь-який символ:"
   ]
  },
  {
   "cell_type": "code",
   "execution_count": null,
   "metadata": {
    "ExecuteTime": {
     "end_time": "2022-10-15T21:47:51.944056Z",
     "start_time": "2022-10-15T21:47:51.939428Z"
    }
   },
   "outputs": [],
   "source": [
    "s.split('a')"
   ]
  },
  {
   "cell_type": "markdown",
   "metadata": {},
   "source": [
    "А ще можемо дізнатись трохи більше про наш рядок:"
   ]
  },
  {
   "cell_type": "code",
   "execution_count": null,
   "metadata": {
    "ExecuteTime": {
     "end_time": "2022-10-15T21:48:15.903307Z",
     "start_time": "2022-10-15T21:48:15.897425Z"
    }
   },
   "outputs": [],
   "source": [
    "s2 = '15'"
   ]
  },
  {
   "cell_type": "code",
   "execution_count": null,
   "metadata": {
    "ExecuteTime": {
     "end_time": "2022-10-15T21:48:20.654481Z",
     "start_time": "2022-10-15T21:48:20.649981Z"
    }
   },
   "outputs": [],
   "source": [
    "s2.isdigit()"
   ]
  },
  {
   "cell_type": "code",
   "execution_count": null,
   "metadata": {
    "ExecuteTime": {
     "end_time": "2022-10-15T21:48:28.426443Z",
     "start_time": "2022-10-15T21:48:28.421942Z"
    }
   },
   "outputs": [],
   "source": [
    "s2.isalpha()"
   ]
  },
  {
   "cell_type": "code",
   "execution_count": null,
   "metadata": {
    "ExecuteTime": {
     "end_time": "2022-10-15T21:48:43.826691Z",
     "start_time": "2022-10-15T21:48:43.822076Z"
    }
   },
   "outputs": [],
   "source": [
    "s2.isnumeric()"
   ]
  },
  {
   "cell_type": "code",
   "execution_count": null,
   "metadata": {
    "ExecuteTime": {
     "end_time": "2022-10-15T21:48:59.021078Z",
     "start_time": "2022-10-15T21:48:58.823220Z"
    }
   },
   "outputs": [],
   "source": [
    "s2.isdecimal()"
   ]
  },
  {
   "cell_type": "markdown",
   "metadata": {},
   "source": [
    "І те, з чим ми вже з вами познайомились:"
   ]
  },
  {
   "cell_type": "code",
   "execution_count": null,
   "metadata": {
    "ExecuteTime": {
     "end_time": "2022-10-15T21:49:52.442386Z",
     "start_time": "2022-10-15T21:49:52.438966Z"
    }
   },
   "outputs": [],
   "source": [
    "s3 = 'name_of_function'"
   ]
  },
  {
   "cell_type": "code",
   "execution_count": null,
   "metadata": {
    "ExecuteTime": {
     "end_time": "2022-10-15T21:59:43.206002Z",
     "start_time": "2022-10-15T21:59:43.201888Z"
    }
   },
   "outputs": [],
   "source": [
    "s3.isidentifier()"
   ]
  },
  {
   "cell_type": "code",
   "execution_count": null,
   "metadata": {
    "ExecuteTime": {
     "end_time": "2022-10-15T21:59:59.451832Z",
     "start_time": "2022-10-15T21:59:59.447442Z"
    }
   },
   "outputs": [],
   "source": [
    "'name of function'.isidentifier()"
   ]
  },
  {
   "cell_type": "markdown",
   "metadata": {},
   "source": [
    "#### Булевий або логічний тип,  `bool`\n",
    "\n",
    "Просто є два значення: `True` та `False` - обовʼязково з заглавної літери."
   ]
  },
  {
   "cell_type": "code",
   "execution_count": null,
   "metadata": {
    "ExecuteTime": {
     "end_time": "2022-10-15T21:04:27.592464Z",
     "start_time": "2022-10-15T21:04:27.584766Z"
    }
   },
   "outputs": [],
   "source": [
    "True"
   ]
  },
  {
   "cell_type": "code",
   "execution_count": null,
   "metadata": {
    "ExecuteTime": {
     "end_time": "2022-10-15T21:04:27.924160Z",
     "start_time": "2022-10-15T21:04:27.918369Z"
    }
   },
   "outputs": [],
   "source": [
    "type(False)"
   ]
  },
  {
   "cell_type": "code",
   "execution_count": null,
   "metadata": {
    "ExecuteTime": {
     "end_time": "2022-10-15T21:04:38.016225Z",
     "start_time": "2022-10-15T21:04:34.604038Z"
    }
   },
   "outputs": [],
   "source": [
    "true"
   ]
  },
  {
   "cell_type": "markdown",
   "metadata": {},
   "source": [
    "#### Пустий тип,  `NoneType`\n",
    "\n",
    "Аби визначити будь-який обʼєкт маємо визначити пустоту. І тоді те, що обʼєкт є, означає, що там вже не пусто.  \n",
    "В інших мовах програмування є `null`, у Python ми маємо `None`, що означає відсутність значення:"
   ]
  },
  {
   "cell_type": "code",
   "execution_count": null,
   "metadata": {
    "ExecuteTime": {
     "end_time": "2022-10-15T22:07:22.443799Z",
     "start_time": "2022-10-15T22:07:22.439291Z"
    }
   },
   "outputs": [],
   "source": [
    "x = None"
   ]
  },
  {
   "cell_type": "markdown",
   "metadata": {
    "ExecuteTime": {
     "end_time": "2022-10-15T22:07:35.105609Z",
     "start_time": "2022-10-15T22:07:35.096894Z"
    }
   },
   "source": [
    "Спробуємо вивести це значення:"
   ]
  },
  {
   "cell_type": "code",
   "execution_count": null,
   "metadata": {
    "ExecuteTime": {
     "end_time": "2022-10-15T22:07:22.939800Z",
     "start_time": "2022-10-15T22:07:22.935021Z"
    }
   },
   "outputs": [],
   "source": [
    "x"
   ]
  },
  {
   "cell_type": "code",
   "execution_count": null,
   "metadata": {
    "ExecuteTime": {
     "end_time": "2022-10-15T22:07:42.733999Z",
     "start_time": "2022-10-15T22:07:42.730050Z"
    }
   },
   "outputs": [],
   "source": [
    "print(x)"
   ]
  },
  {
   "cell_type": "markdown",
   "metadata": {
    "ExecuteTime": {
     "end_time": "2022-10-15T22:07:51.557312Z",
     "start_time": "2022-10-15T22:07:51.552601Z"
    }
   },
   "source": [
    "Перевіримо тип"
   ]
  },
  {
   "cell_type": "code",
   "execution_count": null,
   "metadata": {
    "ExecuteTime": {
     "end_time": "2022-10-15T22:07:44.266310Z",
     "start_time": "2022-10-15T22:07:44.260552Z"
    }
   },
   "outputs": [],
   "source": [
    "type(None)"
   ]
  },
  {
   "cell_type": "markdown",
   "metadata": {},
   "source": [
    "В даних часто бувають пропущені дані. От тут то і зʼявляється цей None."
   ]
  },
  {
   "cell_type": "markdown",
   "metadata": {},
   "source": [
    "### `int`, `float`, `str` та `bool` об'єкти та функції\n",
    "\n",
    "Ви часто побачите, що деякі з цих _\"ключових слів/імен\"_ використовуються і як функції, і як окремі об'єкти. Коли вони використовуються як функції, вони використовуються для перетворення/приведення об’єктів до відповідного типу. Наприклад:"
   ]
  },
  {
   "cell_type": "code",
   "execution_count": null,
   "metadata": {
    "ExecuteTime": {
     "end_time": "2022-10-15T22:09:50.985013Z",
     "start_time": "2022-10-15T22:09:50.980517Z"
    }
   },
   "outputs": [],
   "source": [
    "age_as_string = \"28\""
   ]
  },
  {
   "cell_type": "code",
   "execution_count": null,
   "metadata": {
    "ExecuteTime": {
     "end_time": "2022-10-15T22:09:51.424566Z",
     "start_time": "2022-10-15T22:09:51.418759Z"
    }
   },
   "outputs": [],
   "source": [
    "type(age_as_string)"
   ]
  },
  {
   "cell_type": "code",
   "execution_count": null,
   "metadata": {
    "ExecuteTime": {
     "end_time": "2022-10-15T22:09:52.185758Z",
     "start_time": "2022-10-15T22:09:52.179127Z"
    }
   },
   "outputs": [],
   "source": [
    "int(age_as_string)"
   ]
  },
  {
   "cell_type": "markdown",
   "metadata": {},
   "source": [
    "Це до речі називається кастуванням - перетворенням типів."
   ]
  },
  {
   "cell_type": "code",
   "execution_count": null,
   "metadata": {
    "ExecuteTime": {
     "end_time": "2022-10-15T22:09:52.946136Z",
     "start_time": "2022-10-15T22:09:52.942795Z"
    }
   },
   "outputs": [],
   "source": [
    "age = int(age_as_string)"
   ]
  },
  {
   "cell_type": "code",
   "execution_count": null,
   "metadata": {
    "ExecuteTime": {
     "end_time": "2022-10-15T22:09:53.833208Z",
     "start_time": "2022-10-15T22:09:53.828777Z"
    }
   },
   "outputs": [],
   "source": [
    "type(age)"
   ]
  },
  {
   "cell_type": "markdown",
   "metadata": {},
   "source": [
    "Їх використання як об'єктів в основному пов'язане з типом, який вони позначають:"
   ]
  },
  {
   "cell_type": "code",
   "execution_count": null,
   "metadata": {
    "ExecuteTime": {
     "end_time": "2022-10-15T22:10:32.501109Z",
     "start_time": "2022-10-15T22:10:32.496765Z"
    }
   },
   "outputs": [],
   "source": [
    "type(13) == int"
   ]
  },
  {
   "cell_type": "markdown",
   "metadata": {},
   "source": [
    "### Колекції\n",
    "\n",
    "Python має кілька різноманітних типів колекцій, кожна з яких має різні функції та можливості. Найпоширеніші колекції, які ми розглянемо зараз:\n",
    "\n",
    "* Списки - `list`\n",
    "* Кортежі - `tuple`\n",
    "* Словники - `dict`\n",
    "* Набори - `set`\n",
    "\n",
    "Незважаючи на те, що всі вони мають різні можливості, є одна спільна властивість для всіх: колекції Python неоднорідні, тобто ви можете змішувати кілька типів. Це **не означає, що ми маємо** змішувати типи, зазвичай краще мати однорідну колекцію.\n",
    "\n",
    "#### Списки\n",
    "\n",
    "Списки — це змінні (mutable) впорядковані послідовності. Це певно найпоширеніший тип колекції."
   ]
  },
  {
   "cell_type": "code",
   "execution_count": null,
   "metadata": {
    "ExecuteTime": {
     "end_time": "2022-10-17T15:11:26.810654Z",
     "start_time": "2022-10-17T15:11:26.807076Z"
    }
   },
   "outputs": [],
   "source": [
    "l = [3, 'Hello World', True]"
   ]
  },
  {
   "cell_type": "code",
   "execution_count": null,
   "metadata": {
    "ExecuteTime": {
     "end_time": "2022-10-17T14:23:37.043969Z",
     "start_time": "2022-10-17T14:23:37.004229Z"
    }
   },
   "outputs": [],
   "source": [
    "len(l)"
   ]
  },
  {
   "cell_type": "markdown",
   "metadata": {},
   "source": [
    "Доступ до елементів списку здійснюється за допомогою послідовних індексів (починаючи з `0`):"
   ]
  },
  {
   "cell_type": "code",
   "execution_count": null,
   "metadata": {
    "ExecuteTime": {
     "end_time": "2022-10-17T14:23:50.527473Z",
     "start_time": "2022-10-17T14:23:50.519248Z"
    }
   },
   "outputs": [],
   "source": [
    "l[0]"
   ]
  },
  {
   "cell_type": "code",
   "execution_count": null,
   "metadata": {
    "ExecuteTime": {
     "end_time": "2022-10-17T14:23:50.685059Z",
     "start_time": "2022-10-17T14:23:50.678906Z"
    }
   },
   "outputs": [],
   "source": [
    "l[1]"
   ]
  },
  {
   "cell_type": "markdown",
   "metadata": {},
   "source": [
    "Також підтримуються відґʼємні індекси:"
   ]
  },
  {
   "cell_type": "code",
   "execution_count": null,
   "metadata": {
    "ExecuteTime": {
     "end_time": "2022-10-17T14:24:25.399673Z",
     "start_time": "2022-10-17T14:24:25.391843Z"
    }
   },
   "outputs": [],
   "source": [
    "l[-1]"
   ]
  },
  {
   "cell_type": "code",
   "execution_count": null,
   "metadata": {
    "ExecuteTime": {
     "end_time": "2022-10-17T14:24:29.313342Z",
     "start_time": "2022-10-17T14:24:29.305928Z"
    }
   },
   "outputs": [],
   "source": [
    "l[-2]"
   ]
  },
  {
   "cell_type": "markdown",
   "metadata": {},
   "source": [
    "У списках є багато корисних методів додавання/видалення елементів:"
   ]
  },
  {
   "cell_type": "code",
   "execution_count": null,
   "metadata": {
    "ExecuteTime": {
     "end_time": "2022-10-17T14:24:49.686912Z",
     "start_time": "2022-10-17T14:24:49.676570Z"
    }
   },
   "outputs": [],
   "source": [
    "l.append('Python 🐍')"
   ]
  },
  {
   "cell_type": "code",
   "execution_count": null,
   "metadata": {
    "ExecuteTime": {
     "end_time": "2022-10-17T14:24:50.274131Z",
     "start_time": "2022-10-17T14:24:50.261779Z"
    }
   },
   "outputs": [],
   "source": [
    "l"
   ]
  },
  {
   "cell_type": "code",
   "execution_count": null,
   "metadata": {
    "ExecuteTime": {
     "end_time": "2022-10-17T14:24:51.032457Z",
     "start_time": "2022-10-17T14:24:51.024468Z"
    }
   },
   "outputs": [],
   "source": [
    "'Python 🐍' in l"
   ]
  },
  {
   "cell_type": "code",
   "execution_count": null,
   "metadata": {
    "ExecuteTime": {
     "end_time": "2022-10-17T14:24:56.378528Z",
     "start_time": "2022-10-17T14:24:56.368446Z"
    }
   },
   "outputs": [],
   "source": [
    "'Ruby ♦️' in l"
   ]
  },
  {
   "cell_type": "code",
   "execution_count": null,
   "metadata": {
    "ExecuteTime": {
     "end_time": "2022-10-17T14:25:10.215862Z",
     "start_time": "2022-10-17T14:25:10.210766Z"
    }
   },
   "outputs": [],
   "source": [
    "l.pop()"
   ]
  },
  {
   "cell_type": "code",
   "execution_count": null,
   "metadata": {
    "ExecuteTime": {
     "end_time": "2022-10-17T14:25:12.317071Z",
     "start_time": "2022-10-17T14:25:12.312881Z"
    }
   },
   "outputs": [],
   "source": [
    "l"
   ]
  },
  {
   "cell_type": "code",
   "execution_count": null,
   "metadata": {
    "ExecuteTime": {
     "end_time": "2022-10-17T14:25:18.560309Z",
     "start_time": "2022-10-17T14:25:18.554596Z"
    }
   },
   "outputs": [],
   "source": [
    "l.pop(1)"
   ]
  },
  {
   "cell_type": "code",
   "execution_count": null,
   "metadata": {
    "ExecuteTime": {
     "end_time": "2022-10-17T14:25:20.642777Z",
     "start_time": "2022-10-17T14:25:20.635256Z"
    }
   },
   "outputs": [],
   "source": [
    "l"
   ]
  },
  {
   "cell_type": "markdown",
   "metadata": {},
   "source": [
    "Пошук мінімального і максимального елементів у списку:"
   ]
  },
  {
   "cell_type": "code",
   "execution_count": null,
   "metadata": {
    "ExecuteTime": {
     "end_time": "2022-10-17T15:11:29.970048Z",
     "start_time": "2022-10-17T15:11:29.897815Z"
    }
   },
   "outputs": [],
   "source": [
    "max(l)"
   ]
  },
  {
   "cell_type": "code",
   "execution_count": null,
   "metadata": {
    "ExecuteTime": {
     "end_time": "2022-10-18T10:18:59.582900Z",
     "start_time": "2022-10-18T10:18:59.580332Z"
    }
   },
   "outputs": [],
   "source": [
    "l2 = range(10)"
   ]
  },
  {
   "cell_type": "code",
   "execution_count": null,
   "metadata": {
    "ExecuteTime": {
     "end_time": "2022-10-17T15:12:02.437884Z",
     "start_time": "2022-10-17T15:12:02.433263Z"
    }
   },
   "outputs": [],
   "source": [
    "list(l2)"
   ]
  },
  {
   "cell_type": "code",
   "execution_count": null,
   "metadata": {
    "ExecuteTime": {
     "end_time": "2022-10-17T15:12:04.894911Z",
     "start_time": "2022-10-17T15:12:04.891107Z"
    }
   },
   "outputs": [],
   "source": [
    "max(l2)"
   ]
  },
  {
   "cell_type": "code",
   "execution_count": null,
   "metadata": {
    "ExecuteTime": {
     "end_time": "2022-10-17T15:12:15.098580Z",
     "start_time": "2022-10-17T15:12:15.092985Z"
    }
   },
   "outputs": [],
   "source": [
    "min(l2)"
   ]
  },
  {
   "cell_type": "code",
   "execution_count": null,
   "metadata": {
    "ExecuteTime": {
     "end_time": "2022-10-18T10:19:04.804515Z",
     "start_time": "2022-10-18T10:19:04.800725Z"
    }
   },
   "outputs": [],
   "source": [
    "sorted(l2)"
   ]
  },
  {
   "cell_type": "code",
   "execution_count": null,
   "metadata": {
    "ExecuteTime": {
     "end_time": "2022-10-18T10:19:13.985928Z",
     "start_time": "2022-10-18T10:19:13.981643Z"
    }
   },
   "outputs": [],
   "source": [
    "sorted(l2,reverse=True)"
   ]
  },
  {
   "cell_type": "code",
   "execution_count": null,
   "metadata": {
    "ExecuteTime": {
     "end_time": "2022-10-18T10:19:20.679016Z",
     "start_time": "2022-10-18T10:19:20.675297Z"
    }
   },
   "outputs": [],
   "source": [
    "sum(l2)"
   ]
  },
  {
   "cell_type": "markdown",
   "metadata": {},
   "source": [
    "##### Slicing\n",
    "Вибірка елементів зі списку. Синтаксис:\n",
    "```\n",
    "list[start:stop:step]\n",
    "```"
   ]
  },
  {
   "cell_type": "code",
   "execution_count": null,
   "metadata": {
    "ExecuteTime": {
     "end_time": "2022-10-18T10:12:07.988785Z",
     "start_time": "2022-10-18T10:12:07.985879Z"
    }
   },
   "outputs": [],
   "source": [
    "l = list(range(100))"
   ]
  },
  {
   "cell_type": "code",
   "execution_count": null,
   "metadata": {
    "ExecuteTime": {
     "end_time": "2022-10-18T10:12:08.337656Z",
     "start_time": "2022-10-18T10:12:08.333340Z"
    }
   },
   "outputs": [],
   "source": [
    "l[:5]"
   ]
  },
  {
   "cell_type": "code",
   "execution_count": null,
   "metadata": {
    "ExecuteTime": {
     "end_time": "2022-10-18T10:12:08.506744Z",
     "start_time": "2022-10-18T10:12:08.502530Z"
    }
   },
   "outputs": [],
   "source": [
    "l[-5:]"
   ]
  },
  {
   "cell_type": "code",
   "execution_count": null,
   "metadata": {
    "ExecuteTime": {
     "end_time": "2022-10-18T10:12:08.658120Z",
     "start_time": "2022-10-18T10:12:08.652720Z"
    }
   },
   "outputs": [],
   "source": [
    "l[10:12]"
   ]
  },
  {
   "cell_type": "code",
   "execution_count": null,
   "metadata": {
    "ExecuteTime": {
     "end_time": "2022-10-18T10:12:09.123139Z",
     "start_time": "2022-10-18T10:12:09.117936Z"
    }
   },
   "outputs": [],
   "source": [
    "l[10:8]"
   ]
  },
  {
   "cell_type": "code",
   "execution_count": null,
   "metadata": {
    "ExecuteTime": {
     "end_time": "2022-10-18T10:13:17.667758Z",
     "start_time": "2022-10-18T10:13:17.664047Z"
    }
   },
   "outputs": [],
   "source": [
    "l[:10:2]"
   ]
  },
  {
   "cell_type": "code",
   "execution_count": null,
   "metadata": {
    "ExecuteTime": {
     "end_time": "2022-10-18T10:14:22.484092Z",
     "start_time": "2022-10-18T10:14:22.480792Z"
    }
   },
   "outputs": [],
   "source": [
    "l[2]"
   ]
  },
  {
   "cell_type": "markdown",
   "metadata": {},
   "source": [
    "#### Кортежі\n",
    "\n",
    "Кортежі - це впорядковані колеккції, дуже схожі на списки, але з великою різницею: **вони незмінні**. Це означає, що створений кортеж не можна далі змінювати:"
   ]
  },
  {
   "cell_type": "code",
   "execution_count": null,
   "metadata": {
    "ExecuteTime": {
     "end_time": "2022-10-17T14:31:43.109266Z",
     "start_time": "2022-10-17T14:31:43.106198Z"
    }
   },
   "outputs": [],
   "source": [
    "t = (3, 'Hello World', True, 3)"
   ]
  },
  {
   "cell_type": "code",
   "execution_count": null,
   "metadata": {
    "ExecuteTime": {
     "end_time": "2022-10-17T14:31:44.744562Z",
     "start_time": "2022-10-17T14:31:44.712131Z"
    }
   },
   "outputs": [],
   "source": [
    "t.append(4)"
   ]
  },
  {
   "cell_type": "markdown",
   "metadata": {},
   "source": [
    "Але ми можемо конкатенувати кортежі:"
   ]
  },
  {
   "cell_type": "code",
   "execution_count": null,
   "metadata": {
    "ExecuteTime": {
     "end_time": "2022-10-17T14:31:50.505335Z",
     "start_time": "2022-10-17T14:31:50.501909Z"
    }
   },
   "outputs": [],
   "source": [
    "t2 = t + (2,)"
   ]
  },
  {
   "cell_type": "code",
   "execution_count": null,
   "metadata": {
    "ExecuteTime": {
     "end_time": "2022-10-17T14:31:51.813373Z",
     "start_time": "2022-10-17T14:31:51.807563Z"
    }
   },
   "outputs": [],
   "source": [
    "t2"
   ]
  },
  {
   "cell_type": "markdown",
   "metadata": {},
   "source": [
    "Їх індексація працює таким же чином як і в списках:"
   ]
  },
  {
   "cell_type": "code",
   "execution_count": null,
   "metadata": {
    "ExecuteTime": {
     "end_time": "2022-10-17T14:26:30.574135Z",
     "start_time": "2022-10-17T14:26:30.566285Z"
    }
   },
   "outputs": [],
   "source": [
    "t[0]"
   ]
  },
  {
   "cell_type": "code",
   "execution_count": null,
   "metadata": {
    "ExecuteTime": {
     "end_time": "2022-10-17T14:26:30.868635Z",
     "start_time": "2022-10-17T14:26:30.864962Z"
    }
   },
   "outputs": [],
   "source": [
    "t[-1]"
   ]
  },
  {
   "cell_type": "code",
   "execution_count": null,
   "metadata": {
    "ExecuteTime": {
     "end_time": "2022-10-17T14:26:32.266348Z",
     "start_time": "2022-10-17T14:26:32.261243Z"
    }
   },
   "outputs": [],
   "source": [
    "'Hello World' in t"
   ]
  },
  {
   "cell_type": "markdown",
   "metadata": {},
   "source": [
    "#### Словники\n",
    "\n",
    "Словники — це колекції, які зберігають значення під ключем, визначеним користувачем. Ключ повинен бути незмінним об'єктом; ми зазвичай використовуємо рядки для ключів. Словники є змінними і, що більш важливо, **невпорядкованими**."
   ]
  },
  {
   "cell_type": "code",
   "execution_count": null,
   "metadata": {
    "ExecuteTime": {
     "end_time": "2022-10-17T14:28:14.365321Z",
     "start_time": "2022-10-17T14:28:14.355936Z"
    }
   },
   "outputs": [],
   "source": [
    "user = {\n",
    "    \"name\": \"Mary Smith\",\n",
    "    \"email\": \"mary@example.com\",\n",
    "    \"age\": 30,\n",
    "    \"subscribed\": True\n",
    "}"
   ]
  },
  {
   "cell_type": "code",
   "execution_count": null,
   "metadata": {},
   "outputs": [],
   "source": [
    "user"
   ]
  },
  {
   "cell_type": "markdown",
   "metadata": {},
   "source": [
    "Доступ до елемента здійснюється за допомогою ключа з використанням квадратних дужок:"
   ]
  },
  {
   "cell_type": "code",
   "execution_count": null,
   "metadata": {
    "ExecuteTime": {
     "end_time": "2022-10-17T14:29:39.407549Z",
     "start_time": "2022-10-17T14:29:39.402914Z"
    }
   },
   "outputs": [],
   "source": [
    "user['email']"
   ]
  },
  {
   "cell_type": "code",
   "execution_count": null,
   "metadata": {
    "ExecuteTime": {
     "end_time": "2022-10-17T14:29:44.090961Z",
     "start_time": "2022-10-17T14:29:44.086532Z"
    }
   },
   "outputs": [],
   "source": [
    "'age' in user"
   ]
  },
  {
   "cell_type": "code",
   "execution_count": null,
   "metadata": {
    "ExecuteTime": {
     "end_time": "2022-10-17T14:29:45.078978Z",
     "start_time": "2022-10-17T14:29:45.072822Z"
    }
   },
   "outputs": [],
   "source": [
    "'last_name' in user"
   ]
  },
  {
   "cell_type": "markdown",
   "metadata": {},
   "source": [
    "А отак можемо звернутись до всіх елементів словника:"
   ]
  },
  {
   "cell_type": "code",
   "execution_count": null,
   "metadata": {
    "ExecuteTime": {
     "end_time": "2022-10-17T14:29:55.146469Z",
     "start_time": "2022-10-17T14:29:55.139267Z"
    }
   },
   "outputs": [],
   "source": [
    "user.items()"
   ]
  },
  {
   "cell_type": "code",
   "execution_count": null,
   "metadata": {
    "ExecuteTime": {
     "end_time": "2022-10-17T14:29:59.584597Z",
     "start_time": "2022-10-17T14:29:59.577990Z"
    }
   },
   "outputs": [],
   "source": [
    "user.keys()"
   ]
  },
  {
   "cell_type": "markdown",
   "metadata": {},
   "source": [
    "#### Набори\n",
    "\n",
    "Набор — це невпорядкована колекція, унікальна характеристика якої полягає в тому, що вона містять лише унікальні елементи:"
   ]
  },
  {
   "cell_type": "code",
   "execution_count": null,
   "metadata": {
    "ExecuteTime": {
     "end_time": "2022-10-17T14:32:01.175124Z",
     "start_time": "2022-10-17T14:32:01.169551Z"
    }
   },
   "outputs": [],
   "source": [
    "s = {3, 1, 3, 7, 9, 1, 3, 1}"
   ]
  },
  {
   "cell_type": "code",
   "execution_count": null,
   "metadata": {
    "ExecuteTime": {
     "end_time": "2022-10-17T14:32:01.831604Z",
     "start_time": "2022-10-17T14:32:01.825678Z"
    }
   },
   "outputs": [],
   "source": [
    "s"
   ]
  },
  {
   "cell_type": "markdown",
   "metadata": {},
   "source": [
    "Додавання елементів виконується за допомогою методу `add`:"
   ]
  },
  {
   "cell_type": "code",
   "execution_count": null,
   "metadata": {
    "ExecuteTime": {
     "end_time": "2022-10-17T14:32:18.453598Z",
     "start_time": "2022-10-17T14:32:18.450512Z"
    }
   },
   "outputs": [],
   "source": [
    "s.add(10)"
   ]
  },
  {
   "cell_type": "markdown",
   "metadata": {},
   "source": [
    "Видалення елементів можна виконати за допомогою `pop()`:"
   ]
  },
  {
   "cell_type": "code",
   "execution_count": null,
   "metadata": {},
   "outputs": [],
   "source": [
    "s.pop()"
   ]
  },
  {
   "cell_type": "markdown",
   "metadata": {},
   "source": [
    "### Оператори\n",
    "\n",
    "Доступні як арифметичні, так і логічні оператори, наприклад:\n",
    "\n",
    "#### Арифметичні оператори"
   ]
  },
  {
   "cell_type": "code",
   "execution_count": null,
   "metadata": {
    "ExecuteTime": {
     "end_time": "2022-10-15T22:13:16.642715Z",
     "start_time": "2022-10-15T22:13:16.626359Z"
    }
   },
   "outputs": [],
   "source": [
    "3 + 3"
   ]
  },
  {
   "cell_type": "code",
   "execution_count": null,
   "metadata": {
    "ExecuteTime": {
     "end_time": "2022-10-15T22:14:35.484984Z",
     "start_time": "2022-10-15T22:14:35.454725Z"
    }
   },
   "outputs": [],
   "source": [
    "10 / 5"
   ]
  },
  {
   "cell_type": "code",
   "execution_count": null,
   "metadata": {
    "ExecuteTime": {
     "end_time": "2022-10-15T22:14:52.677470Z",
     "start_time": "2022-10-15T22:14:52.671069Z"
    }
   },
   "outputs": [],
   "source": [
    "110 - 11"
   ]
  },
  {
   "cell_type": "markdown",
   "metadata": {},
   "source": [
    "Залишок від ділення:"
   ]
  },
  {
   "cell_type": "code",
   "execution_count": null,
   "metadata": {
    "ExecuteTime": {
     "end_time": "2022-10-15T22:13:16.752446Z",
     "start_time": "2022-10-15T22:13:16.746513Z"
    }
   },
   "outputs": [],
   "source": [
    "11 % 7"
   ]
  },
  {
   "cell_type": "markdown",
   "metadata": {},
   "source": [
    "Ціла частина від ділення:"
   ]
  },
  {
   "cell_type": "code",
   "execution_count": null,
   "metadata": {
    "ExecuteTime": {
     "end_time": "2022-10-15T22:13:37.975836Z",
     "start_time": "2022-10-15T22:13:37.969973Z"
    }
   },
   "outputs": [],
   "source": [
    "11 // 2"
   ]
  },
  {
   "cell_type": "markdown",
   "metadata": {
    "ExecuteTime": {
     "end_time": "2022-10-15T22:14:13.419712Z",
     "start_time": "2022-10-15T22:14:13.403325Z"
    }
   },
   "source": [
    "Піднесення до степіня:"
   ]
  },
  {
   "cell_type": "code",
   "execution_count": null,
   "metadata": {
    "ExecuteTime": {
     "end_time": "2022-10-15T22:13:18.236800Z",
     "start_time": "2022-10-15T22:13:18.232901Z"
    }
   },
   "outputs": [],
   "source": [
    "2 ** 4"
   ]
  },
  {
   "cell_type": "markdown",
   "metadata": {},
   "source": [
    "Щодо пріоритету операцій - то він як в звичайні математиці. Але якщо хочете детальніше - загляніть до [офіційної документації](https://docs.python.org/3/reference/expressions.html#operator-precedence)."
   ]
  },
  {
   "cell_type": "code",
   "execution_count": null,
   "metadata": {
    "ExecuteTime": {
     "end_time": "2022-10-15T22:16:03.776289Z",
     "start_time": "2022-10-15T22:16:03.771850Z"
    }
   },
   "outputs": [],
   "source": [
    "3 + 4 * 5"
   ]
  },
  {
   "cell_type": "code",
   "execution_count": null,
   "metadata": {
    "ExecuteTime": {
     "end_time": "2022-10-15T22:16:04.523933Z",
     "start_time": "2022-10-15T22:16:04.519559Z"
    }
   },
   "outputs": [],
   "source": [
    "3 + 4 * 2**3"
   ]
  },
  {
   "cell_type": "code",
   "execution_count": null,
   "metadata": {
    "ExecuteTime": {
     "end_time": "2022-10-15T22:16:16.567681Z",
     "start_time": "2022-10-15T22:16:16.536144Z"
    }
   },
   "outputs": [],
   "source": [
    "(4 + 5) * 2"
   ]
  },
  {
   "cell_type": "code",
   "execution_count": null,
   "metadata": {
    "ExecuteTime": {
     "end_time": "2022-10-15T22:16:38.383754Z",
     "start_time": "2022-10-15T22:16:38.377729Z"
    }
   },
   "outputs": [],
   "source": [
    "(5 + 1) - (1 + 10)"
   ]
  },
  {
   "cell_type": "markdown",
   "metadata": {},
   "source": [
    "#### Оператори порівняння\n",
    "\n",
    "Доступні звичайні оператори порівняння (як ми вже з вами переконались):"
   ]
  },
  {
   "cell_type": "code",
   "execution_count": null,
   "metadata": {
    "ExecuteTime": {
     "end_time": "2022-10-15T22:17:10.197664Z",
     "start_time": "2022-10-15T22:17:10.191079Z"
    }
   },
   "outputs": [],
   "source": [
    "7 > 3"
   ]
  },
  {
   "cell_type": "code",
   "execution_count": null,
   "metadata": {
    "ExecuteTime": {
     "end_time": "2022-10-15T22:17:10.394881Z",
     "start_time": "2022-10-15T22:17:10.389443Z"
    }
   },
   "outputs": [],
   "source": [
    "8 >= 8"
   ]
  },
  {
   "cell_type": "code",
   "execution_count": null,
   "metadata": {
    "ExecuteTime": {
     "end_time": "2022-10-17T17:48:32.606796Z",
     "start_time": "2022-10-17T17:48:32.602588Z"
    }
   },
   "outputs": [],
   "source": [
    "8 != 8"
   ]
  },
  {
   "cell_type": "code",
   "execution_count": null,
   "metadata": {
    "ExecuteTime": {
     "end_time": "2022-10-17T17:48:05.878273Z",
     "start_time": "2022-10-17T17:48:05.873579Z"
    }
   },
   "outputs": [],
   "source": [
    "\"ABC\" == \"abc\".upper()"
   ]
  },
  {
   "cell_type": "markdown",
   "metadata": {},
   "source": [
    "Ми сказали, що Python строго типізований, тому порівняння між різними типами не вдасться, якщо ці типи несумісні:"
   ]
  },
  {
   "cell_type": "code",
   "execution_count": null,
   "metadata": {
    "ExecuteTime": {
     "end_time": "2022-10-15T22:17:40.515040Z",
     "start_time": "2022-10-15T22:17:40.446159Z"
    }
   },
   "outputs": [],
   "source": [
    "8 > \"abc\""
   ]
  },
  {
   "cell_type": "code",
   "execution_count": null,
   "metadata": {
    "ExecuteTime": {
     "end_time": "2022-10-15T22:17:50.846481Z",
     "start_time": "2022-10-15T22:17:50.778937Z"
    }
   },
   "outputs": [],
   "source": [
    "8 > '7'"
   ]
  },
  {
   "cell_type": "code",
   "execution_count": null,
   "metadata": {
    "ExecuteTime": {
     "end_time": "2022-10-15T22:18:11.350996Z",
     "start_time": "2022-10-15T22:18:11.345029Z"
    }
   },
   "outputs": [],
   "source": [
    "8 > int('7')"
   ]
  },
  {
   "cell_type": "code",
   "execution_count": null,
   "metadata": {
    "ExecuteTime": {
     "end_time": "2022-10-17T17:48:43.858543Z",
     "start_time": "2022-10-17T17:48:43.853789Z"
    }
   },
   "outputs": [],
   "source": [
    "8 > 2 > 1"
   ]
  },
  {
   "cell_type": "markdown",
   "metadata": {},
   "source": [
    "Python також має інші поширені логічні оператори, такі як `and`, `or`, `not`, тощо:"
   ]
  },
  {
   "cell_type": "code",
   "execution_count": null,
   "metadata": {
    "ExecuteTime": {
     "end_time": "2022-10-15T22:20:20.528801Z",
     "start_time": "2022-10-15T22:20:20.524226Z"
    }
   },
   "outputs": [],
   "source": [
    "True and True"
   ]
  },
  {
   "cell_type": "code",
   "execution_count": null,
   "metadata": {
    "ExecuteTime": {
     "end_time": "2022-10-15T22:20:20.800013Z",
     "start_time": "2022-10-15T22:20:20.794530Z"
    }
   },
   "outputs": [],
   "source": [
    "not False"
   ]
  },
  {
   "cell_type": "code",
   "execution_count": null,
   "metadata": {
    "ExecuteTime": {
     "end_time": "2022-10-15T22:20:21.336232Z",
     "start_time": "2022-10-15T22:20:21.332083Z"
    }
   },
   "outputs": [],
   "source": [
    "False or True"
   ]
  },
  {
   "cell_type": "markdown",
   "metadata": {
    "ExecuteTime": {
     "end_time": "2022-10-15T21:05:37.329851Z",
     "start_time": "2022-10-15T21:05:37.319850Z"
    }
   },
   "source": [
    "Приклад використання логічних операторів в аналізі: ми хочемо визначити чи правдиве для конкретного обраного клієнта висловлення: \"клієнт зареєструвався 5 днів тому І клієнт витратив в магазині більше $20\" при наступних даних клієнта:"
   ]
  },
  {
   "cell_type": "code",
   "execution_count": null,
   "metadata": {
    "ExecuteTime": {
     "end_time": "2022-10-15T22:05:19.711057Z",
     "start_time": "2022-10-15T22:05:19.706953Z"
    }
   },
   "outputs": [],
   "source": [
    "# спробуйте змінити значення\n",
    "days_registered = 4\n",
    "sum_spent = 25"
   ]
  },
  {
   "cell_type": "code",
   "execution_count": null,
   "metadata": {
    "ExecuteTime": {
     "end_time": "2022-10-15T22:05:42.507881Z",
     "start_time": "2022-10-15T22:05:42.504134Z"
    }
   },
   "outputs": [],
   "source": [
    "(days_registered == 5) and (sum_spent > 20)"
   ]
  },
  {
   "cell_type": "markdown",
   "metadata": {},
   "source": [
    "### Control Flow\n",
    "\n",
    "Python підтримує найпоширеніші блоки керування потоком (Control Flow). Зверніть увагу на те, що всередині блоку ми завжди маємо відступи.\n",
    "\n",
    "#### If/else/elif statements"
   ]
  },
  {
   "cell_type": "code",
   "execution_count": null,
   "metadata": {
    "ExecuteTime": {
     "end_time": "2022-10-17T14:14:50.499416Z",
     "start_time": "2022-10-17T14:14:50.431701Z"
    }
   },
   "outputs": [],
   "source": [
    "days_subscribed = 28"
   ]
  },
  {
   "cell_type": "code",
   "execution_count": null,
   "metadata": {
    "ExecuteTime": {
     "end_time": "2022-10-17T14:14:51.151245Z",
     "start_time": "2022-10-17T14:14:51.129325Z"
    }
   },
   "outputs": [],
   "source": [
    "if days_subscribed >= 30:\n",
    "    print(\"Loyal customer\")\n",
    "elif days_subscribed >= 15:\n",
    "    print(\"Halfway there\")\n",
    "elif days_subscribed >= 1:\n",
    "    print(\"Building confidence\")\n",
    "else:\n",
    "    print(\"Too early\")"
   ]
  },
  {
   "cell_type": "markdown",
   "metadata": {},
   "source": [
    "#### Цикл `for` \n",
    "\n",
    "У Python цикли `for` призначені для того, аби пройти один за одним елементи колекції. "
   ]
  },
  {
   "cell_type": "code",
   "execution_count": null,
   "metadata": {},
   "outputs": [],
   "source": [
    "names = ['Monica', 'Ross', 'Chandler', 'Joey', 'Rachel']"
   ]
  },
  {
   "cell_type": "code",
   "execution_count": null,
   "metadata": {},
   "outputs": [],
   "source": [
    "for name in names:\n",
    "    print(name)"
   ]
  },
  {
   "cell_type": "markdown",
   "metadata": {
    "ExecuteTime": {
     "end_time": "2022-10-17T14:40:08.059953Z",
     "start_time": "2022-10-17T14:40:08.032339Z"
    }
   },
   "source": [
    "В циклі ще можуть бути команди `break`, `continue`"
   ]
  },
  {
   "cell_type": "code",
   "execution_count": null,
   "metadata": {
    "ExecuteTime": {
     "end_time": "2022-10-17T14:42:12.254970Z",
     "start_time": "2022-10-17T14:42:12.248754Z"
    }
   },
   "outputs": [],
   "source": [
    "# спробуйте змінити літери, на яких зупиниться цикл\n",
    "# або змініть фразу, по якій ми ітеруємось\n",
    "\n",
    "for letter in 'London is a capital of Great Britain':\n",
    "\n",
    "    # цикл зупиниться, як тільки дійде до літери 'і'\n",
    "    # або 's'\n",
    "    if letter == 'і' or letter == 's':\n",
    "        break\n",
    "        \n",
    "print('Поточна літера:', letter)"
   ]
  },
  {
   "cell_type": "code",
   "execution_count": null,
   "metadata": {
    "ExecuteTime": {
     "end_time": "2022-10-17T14:47:23.313350Z",
     "start_time": "2022-10-17T14:47:23.307077Z"
    }
   },
   "outputs": [],
   "source": [
    "for letter in 'London is a capital of Great Britain':\n",
    "\n",
    "    # цикл зупиниться, як тільки наступною літерою буде та, \n",
    "    # якої немає в списку\n",
    "    print(letter)\n",
    "    if letter.lower() in ['l', 'o', 'n']:\n",
    "        continue\n",
    "    else: \n",
    "        break\n",
    "        \n",
    "print('Поточна літера:', letter)"
   ]
  },
  {
   "cell_type": "markdown",
   "metadata": {},
   "source": [
    "#### Цикл `while` \n",
    "\n",
    "Цикли While рідко використовуються в Python. У 99% випадків найкращим вибором є цикли For. Проте вони доступні та корисні в деяких ситуаціях:"
   ]
  },
  {
   "cell_type": "code",
   "execution_count": null,
   "metadata": {
    "ExecuteTime": {
     "end_time": "2022-10-17T14:33:35.160123Z",
     "start_time": "2022-10-17T14:33:35.156928Z"
    }
   },
   "outputs": [],
   "source": [
    "count = 0"
   ]
  },
  {
   "cell_type": "code",
   "execution_count": null,
   "metadata": {
    "ExecuteTime": {
     "end_time": "2022-10-17T14:33:36.483215Z",
     "start_time": "2022-10-17T14:33:36.479244Z"
    }
   },
   "outputs": [],
   "source": [
    "while count < 3:\n",
    "    print(\"Counting...\")\n",
    "    count += 1"
   ]
  },
  {
   "cell_type": "markdown",
   "metadata": {},
   "source": [
    "Тут слід згадати ще один блок, `try/except`, але він знаходиться в розділі **_Exceptions_**, в наступній лекції."
   ]
  },
  {
   "cell_type": "markdown",
   "metadata": {},
   "source": [
    "### Ітерування по полекціям"
   ]
  },
  {
   "cell_type": "markdown",
   "metadata": {
    "ExecuteTime": {
     "end_time": "2022-10-17T17:38:59.974162Z",
     "start_time": "2022-10-17T17:38:59.960348Z"
    }
   },
   "source": [
    "#### Списки"
   ]
  },
  {
   "cell_type": "markdown",
   "metadata": {},
   "source": [
    "На основі списку фруктів вам потрібен новий список, який містить лише фрукти з літерою «а» в назві."
   ]
  },
  {
   "cell_type": "code",
   "execution_count": null,
   "metadata": {
    "ExecuteTime": {
     "end_time": "2022-10-17T17:39:47.283143Z",
     "start_time": "2022-10-17T17:39:47.248352Z"
    }
   },
   "outputs": [],
   "source": [
    "fruits = [\"apple\", \"banana\", \"cherry\", \"kiwi\", \"mango\"]\n",
    "newlist = []\n",
    "\n",
    "for x in fruits:\n",
    "    if \"a\" in x:\n",
    "        newlist.append(x)\n",
    "\n",
    "print(newlist)"
   ]
  },
  {
   "cell_type": "markdown",
   "metadata": {
    "ExecuteTime": {
     "end_time": "2022-10-17T17:40:33.150373Z",
     "start_time": "2022-10-17T17:40:33.146291Z"
    }
   },
   "source": [
    "##### List comprehension"
   ]
  },
  {
   "cell_type": "markdown",
   "metadata": {
    "ExecuteTime": {
     "end_time": "2022-10-17T17:40:36.255881Z",
     "start_time": "2022-10-17T17:40:36.239878Z"
    }
   },
   "source": [
    "**List comprehension** - пропонує коротший синтаксис, коли ви хочете створити новий список на основі значень існуючого списку.  \n",
    "Синтаксис:   \n",
    "\n",
    "`newlist = [expression for item in iterable if condition == True]`\n",
    "\n",
    "\n",
    "Зробимо те саме, що і до того, але використовуючи List comprehension.\n",
    "\n"
   ]
  },
  {
   "cell_type": "code",
   "execution_count": null,
   "metadata": {
    "ExecuteTime": {
     "end_time": "2022-10-17T17:41:36.830612Z",
     "start_time": "2022-10-17T17:41:36.808360Z"
    }
   },
   "outputs": [],
   "source": [
    "newlist = [x for x in fruits if \"a\" in x]\n",
    "newlist"
   ]
  },
  {
   "cell_type": "markdown",
   "metadata": {},
   "source": [
    "Ще один приклад. Припустимо у нас є пропущені значення в наборі даних і вони позначені як None. Для подальших обчислень ми хочемо замінити ці значення на 0."
   ]
  },
  {
   "cell_type": "code",
   "execution_count": null,
   "metadata": {
    "ExecuteTime": {
     "end_time": "2022-10-17T17:46:16.764016Z",
     "start_time": "2022-10-17T17:46:16.757895Z"
    }
   },
   "outputs": [],
   "source": [
    "data = [1, 2, 44, None, 12, 100, 3231, 2, None, 3, 4, 432, None, 8, 25]"
   ]
  },
  {
   "cell_type": "code",
   "execution_count": null,
   "metadata": {
    "ExecuteTime": {
     "end_time": "2022-10-17T17:47:12.537877Z",
     "start_time": "2022-10-17T17:47:12.532919Z"
    }
   },
   "outputs": [],
   "source": [
    "[el if el != None else 0 for el in data  ]"
   ]
  },
  {
   "cell_type": "markdown",
   "metadata": {
    "ExecuteTime": {
     "end_time": "2022-10-17T17:41:45.540363Z",
     "start_time": "2022-10-17T17:41:45.537872Z"
    }
   },
   "source": [
    "#### Dicts"
   ]
  },
  {
   "cell_type": "code",
   "execution_count": null,
   "metadata": {
    "ExecuteTime": {
     "end_time": "2022-10-17T14:39:13.602555Z",
     "start_time": "2022-10-17T14:39:13.594806Z"
    }
   },
   "outputs": [],
   "source": [
    "for key in user:\n",
    "    print(key.title(), '=>', user[key])"
   ]
  },
  {
   "cell_type": "markdown",
   "metadata": {},
   "source": [
    "#### Strings"
   ]
  },
  {
   "cell_type": "markdown",
   "metadata": {},
   "source": [
    "Ітерація по рядку:"
   ]
  },
  {
   "cell_type": "code",
   "execution_count": null,
   "metadata": {
    "ExecuteTime": {
     "end_time": "2022-10-17T14:38:59.510099Z",
     "start_time": "2022-10-17T14:38:59.504543Z"
    }
   },
   "outputs": [],
   "source": [
    "s = \"Python\"\n",
    "for i in s:\n",
    "    print(i)"
   ]
  }
 ],
 "metadata": {
  "kernelspec": {
   "display_name": "Python 3 (ipykernel)",
   "language": "python",
   "name": "python3"
  },
  "language_info": {
   "codemirror_mode": {
    "name": "ipython",
    "version": 3
   },
   "file_extension": ".py",
   "mimetype": "text/x-python",
   "name": "python",
   "nbconvert_exporter": "python",
   "pygments_lexer": "ipython3",
   "version": "3.9.12"
  },
  "toc": {
   "base_numbering": 1,
   "nav_menu": {},
   "number_sections": true,
   "sideBar": true,
   "skip_h1_title": false,
   "title_cell": "Table of Contents",
   "title_sidebar": "Contents",
   "toc_cell": false,
   "toc_position": {},
   "toc_section_display": true,
   "toc_window_display": false
  }
 },
 "nbformat": 4,
 "nbformat_minor": 2
}
